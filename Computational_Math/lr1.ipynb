{
  "cells": [
    {
      "cell_type": "markdown",
      "metadata": {
        "id": "v4irR7-_WVzx"
      },
      "source": [
        "# Бойко Виктория Владимировна\n",
        "Лабораторная работа №1. Питон для математиков\n",
        "\n",
        "№ 3"
      ]
    },
    {
      "cell_type": "code",
      "execution_count": 3,
      "metadata": {
        "id": "ARCSGiq7Tno3"
      },
      "outputs": [],
      "source": [
        "import sympy as sm\n",
        "import numpy as np\n",
        "import scipy as sp\n",
        "import matplotlib.pyplot as plt"
      ]
    },
    {
      "cell_type": "markdown",
      "metadata": {
        "id": "IglmIfj-XiHI"
      },
      "source": [
        "1. Используя специальные функции библиотеки NumPy, создать матрицу 5x5 из единиц и создать единичную матрицу 20х20.\n",
        "\n"
      ]
    },
    {
      "cell_type": "code",
      "execution_count": 4,
      "metadata": {
        "colab": {
          "base_uri": "https://localhost:8080/"
        },
        "id": "NV1ZaQ1SZYMt",
        "outputId": "b6d2926f-66ea-49c8-8cc5-7e1257198f36"
      },
      "outputs": [
        {
          "name": "stdout",
          "output_type": "stream",
          "text": [
            "[[1. 1. 1. 1. 1.]\n",
            " [1. 1. 1. 1. 1.]\n",
            " [1. 1. 1. 1. 1.]\n",
            " [1. 1. 1. 1. 1.]\n",
            " [1. 1. 1. 1. 1.]]\n"
          ]
        }
      ],
      "source": [
        "ones_matrix = np.ones((5, 5))\n",
        "print(ones_matrix)"
      ]
    },
    {
      "cell_type": "code",
      "execution_count": 5,
      "metadata": {
        "colab": {
          "base_uri": "https://localhost:8080/"
        },
        "id": "RtcfwgGTlzj2",
        "outputId": "7a48d439-b311-4f4d-865e-ffe46a6e6313"
      },
      "outputs": [
        {
          "name": "stdout",
          "output_type": "stream",
          "text": [
            "[[1. 0. 0. 0. 0. 0. 0. 0. 0. 0. 0. 0. 0. 0. 0. 0. 0. 0. 0. 0.]\n",
            " [0. 1. 0. 0. 0. 0. 0. 0. 0. 0. 0. 0. 0. 0. 0. 0. 0. 0. 0. 0.]\n",
            " [0. 0. 1. 0. 0. 0. 0. 0. 0. 0. 0. 0. 0. 0. 0. 0. 0. 0. 0. 0.]\n",
            " [0. 0. 0. 1. 0. 0. 0. 0. 0. 0. 0. 0. 0. 0. 0. 0. 0. 0. 0. 0.]\n",
            " [0. 0. 0. 0. 1. 0. 0. 0. 0. 0. 0. 0. 0. 0. 0. 0. 0. 0. 0. 0.]\n",
            " [0. 0. 0. 0. 0. 1. 0. 0. 0. 0. 0. 0. 0. 0. 0. 0. 0. 0. 0. 0.]\n",
            " [0. 0. 0. 0. 0. 0. 1. 0. 0. 0. 0. 0. 0. 0. 0. 0. 0. 0. 0. 0.]\n",
            " [0. 0. 0. 0. 0. 0. 0. 1. 0. 0. 0. 0. 0. 0. 0. 0. 0. 0. 0. 0.]\n",
            " [0. 0. 0. 0. 0. 0. 0. 0. 1. 0. 0. 0. 0. 0. 0. 0. 0. 0. 0. 0.]\n",
            " [0. 0. 0. 0. 0. 0. 0. 0. 0. 1. 0. 0. 0. 0. 0. 0. 0. 0. 0. 0.]\n",
            " [0. 0. 0. 0. 0. 0. 0. 0. 0. 0. 1. 0. 0. 0. 0. 0. 0. 0. 0. 0.]\n",
            " [0. 0. 0. 0. 0. 0. 0. 0. 0. 0. 0. 1. 0. 0. 0. 0. 0. 0. 0. 0.]\n",
            " [0. 0. 0. 0. 0. 0. 0. 0. 0. 0. 0. 0. 1. 0. 0. 0. 0. 0. 0. 0.]\n",
            " [0. 0. 0. 0. 0. 0. 0. 0. 0. 0. 0. 0. 0. 1. 0. 0. 0. 0. 0. 0.]\n",
            " [0. 0. 0. 0. 0. 0. 0. 0. 0. 0. 0. 0. 0. 0. 1. 0. 0. 0. 0. 0.]\n",
            " [0. 0. 0. 0. 0. 0. 0. 0. 0. 0. 0. 0. 0. 0. 0. 1. 0. 0. 0. 0.]\n",
            " [0. 0. 0. 0. 0. 0. 0. 0. 0. 0. 0. 0. 0. 0. 0. 0. 1. 0. 0. 0.]\n",
            " [0. 0. 0. 0. 0. 0. 0. 0. 0. 0. 0. 0. 0. 0. 0. 0. 0. 1. 0. 0.]\n",
            " [0. 0. 0. 0. 0. 0. 0. 0. 0. 0. 0. 0. 0. 0. 0. 0. 0. 0. 1. 0.]\n",
            " [0. 0. 0. 0. 0. 0. 0. 0. 0. 0. 0. 0. 0. 0. 0. 0. 0. 0. 0. 1.]]\n"
          ]
        }
      ],
      "source": [
        "single_matrix = np.identity(20)\n",
        "print(single_matrix)"
      ]
    },
    {
      "cell_type": "markdown",
      "metadata": {
        "id": "zmVyHm6RamJF"
      },
      "source": [
        "2. Используя библиотеку NumPy, вычислить определитель\n",
        "\n",
        "$\\begin{bmatrix}\n",
        "  3 & -1 & 2 & 3 & 2 \\\\\n",
        "  1 & 2 & -3 & 3 & 4 \\\\\n",
        "  2 & -3 & 4 & 2 & 1 \\\\\n",
        "  3 & 0 & 0 & 5 & 0  \\\\\n",
        "  2 & 0 & 0 & 4 & 0\n",
        " \\end{bmatrix}$"
      ]
    },
    {
      "cell_type": "code",
      "execution_count": 6,
      "metadata": {
        "colab": {
          "base_uri": "https://localhost:8080/"
        },
        "id": "0d1dV4_2ZVxM",
        "outputId": "a900974f-13be-4447-965f-176c1afbf981"
      },
      "outputs": [
        {
          "name": "stdout",
          "output_type": "stream",
          "text": [
            "-22.0\n"
          ]
        }
      ],
      "source": [
        "det = np.linalg.det(np.array([[3, -1, 2, 3, 2],\n",
        "                              [1, 2, -3, 3, 4],\n",
        "                              [2, -3, 4, 2, 1],\n",
        "                              [3, 0, 0, 5, 0],\n",
        "                              [2, 0, 0, 4, 0]]))\n",
        "print(round(det, 5))"
      ]
    },
    {
      "cell_type": "markdown",
      "metadata": {
        "id": "fmFxi5TueJmz"
      },
      "source": [
        "3. Используя библиотеку SymPy, упростите выражение $\\left( \\frac{2}{x^2} + \\frac{3}{y^2} \\right) \\left(x+3y \\right)$ и найдите его значение при $x=-2.01$, $y=\\sqrt 5$."
      ]
    },
    {
      "cell_type": "code",
      "execution_count": 7,
      "metadata": {
        "colab": {
          "base_uri": "https://localhost:8080/",
          "height": 54
        },
        "id": "l0dnq-Fqgsqd",
        "outputId": "a3783617-9efe-4eeb-cd32-a27d61c06b68"
      },
      "outputs": [
        {
          "data": {
            "text/latex": [
              "$\\displaystyle \\frac{3 x}{y^{2}} + \\frac{9}{y} + \\frac{2}{x} + \\frac{6 y}{x^{2}}$"
            ],
            "text/plain": [
              "3*x/y**2 + 9/y + 2/x + 6*y/x**2"
            ]
          },
          "execution_count": 7,
          "metadata": {},
          "output_type": "execute_result"
        }
      ],
      "source": [
        "expr = sm.sympify(\"(2/(x**2) + 3/(y**2)) * (x + 3*y)\").expand()\n",
        "expr"
      ]
    },
    {
      "cell_type": "code",
      "execution_count": 8,
      "metadata": {
        "colab": {
          "base_uri": "https://localhost:8080/"
        },
        "id": "ibYVZGavlt6j",
        "outputId": "9bd9222d-1158-4580-a464-63861b683bd8"
      },
      "outputs": [
        {
          "name": "stdout",
          "output_type": "stream",
          "text": [
            "5.14471\n"
          ]
        }
      ],
      "source": [
        "print(round(expr.subs('x', -2.01).subs('y', np.sqrt(5)), 5))"
      ]
    },
    {
      "cell_type": "markdown",
      "metadata": {
        "id": "-k3ccVkEl5KT"
      },
      "source": [
        "4. Используя библиотеку SymPy, найдите частные производные от выражения из задания выше."
      ]
    },
    {
      "cell_type": "code",
      "execution_count": 9,
      "metadata": {
        "colab": {
          "base_uri": "https://localhost:8080/",
          "height": 54
        },
        "id": "iixXfZHkl_-d",
        "outputId": "34d8cf05-be03-4056-c69a-378548508227"
      },
      "outputs": [
        {
          "data": {
            "text/latex": [
              "$\\displaystyle \\frac{3}{y^{2}} - \\frac{2}{x^{2}} - \\frac{12 y}{x^{3}}$"
            ],
            "text/plain": [
              "3/y**2 - 2/x**2 - 12*y/x**3"
            ]
          },
          "execution_count": 9,
          "metadata": {},
          "output_type": "execute_result"
        }
      ],
      "source": [
        "deriv_x = sm.diff(expr, 'x')\n",
        "deriv_x"
      ]
    },
    {
      "cell_type": "code",
      "execution_count": 10,
      "metadata": {
        "colab": {
          "base_uri": "https://localhost:8080/",
          "height": 54
        },
        "id": "g_Mu8I9km4up",
        "outputId": "3b893b91-9646-41e6-e22e-d99dd11fc733"
      },
      "outputs": [
        {
          "data": {
            "text/latex": [
              "$\\displaystyle - \\frac{6 x}{y^{3}} - \\frac{9}{y^{2}} + \\frac{6}{x^{2}}$"
            ],
            "text/plain": [
              "-6*x/y**3 - 9/y**2 + 6/x**2"
            ]
          },
          "execution_count": 10,
          "metadata": {},
          "output_type": "execute_result"
        }
      ],
      "source": [
        "deriv_y = sm.diff(expr, 'y')\n",
        "deriv_y"
      ]
    },
    {
      "cell_type": "markdown",
      "metadata": {
        "id": "ApeFK00cnIuS"
      },
      "source": [
        "5. Используя библиотеку NumPy, создать случайную матрицу\n",
        "$A$ из целых чисел из отрезка $[0,5]$ размера $4\\times4$. Создать векторстолбец $B$ подходящего размера. Решить систему $AX = B$.\n"
      ]
    },
    {
      "cell_type": "code",
      "execution_count": 11,
      "metadata": {
        "colab": {
          "base_uri": "https://localhost:8080/"
        },
        "id": "26gPxANXn2p2",
        "outputId": "3071f1b3-06e0-40d4-df63-74f1079b61f2"
      },
      "outputs": [
        {
          "name": "stdout",
          "output_type": "stream",
          "text": [
            "Матрица A:\n",
            " [[5 3 4 5]\n",
            " [3 2 0 0]\n",
            " [4 4 2 2]\n",
            " [5 1 5 2]]\n",
            "\n",
            "Вектор-столбец B:\n",
            " [[1]\n",
            " [2]\n",
            " [0]\n",
            " [2]]\n",
            "\n",
            "Решение X:\n",
            " [[ 1.31818182]\n",
            " [-0.97727273]\n",
            " [-0.75      ]\n",
            " [ 0.06818182]]\n"
          ]
        }
      ],
      "source": [
        "A = np.random.randint(0, 6, size=(4, 4))\n",
        "print(\"Матрица A:\\n\", A)\n",
        "\n",
        "B = np.random.randint(0, 6, size=(4, 1))\n",
        "print(\"\\nВектор-столбец B:\\n\", B)\n",
        "\n",
        "try:\n",
        "    X = np.linalg.solve(A, B)\n",
        "    print(\"\\nРешение X:\\n\", X)\n",
        "except np.linalg.LinAlgError:\n",
        "    print(\"\\nСистема не имеет решения или имеет бесконечно много решений.\")\n"
      ]
    },
    {
      "cell_type": "markdown",
      "metadata": {
        "id": "DRcwBvYPpaSW"
      },
      "source": [
        "6. Вычислить интеграл двумя способами: используя библиотеку SciPy и библиотеку SymPy $ \\int _0 ^{\\frac 1 3} ch^2(3x) dx$."
      ]
    },
    {
      "cell_type": "code",
      "execution_count": 12,
      "metadata": {
        "colab": {
          "base_uri": "https://localhost:8080/",
          "height": 55
        },
        "id": "1OXZ36dmraVO",
        "outputId": "10571107-724a-46fa-b21f-e447b6d67d37"
      },
      "outputs": [
        {
          "data": {
            "text/latex": [
              "$\\displaystyle - \\frac{\\sinh^{2}{\\left(1 \\right)}}{6} + \\frac{\\sinh{\\left(1 \\right)} \\cosh{\\left(1 \\right)}}{6} + \\frac{\\cosh^{2}{\\left(1 \\right)}}{6}$"
            ],
            "text/plain": [
              "-sinh(1)**2/6 + sinh(1)*cosh(1)/6 + cosh(1)**2/6"
            ]
          },
          "execution_count": 12,
          "metadata": {},
          "output_type": "execute_result"
        }
      ],
      "source": [
        "x = sm.Symbol('x')\n",
        "f = sm.cosh(3*x)**2\n",
        "sm.integrate(f, (x, 0, sm.Rational(1, 3)))\n"
      ]
    },
    {
      "cell_type": "code",
      "execution_count": 13,
      "metadata": {
        "colab": {
          "base_uri": "https://localhost:8080/"
        },
        "id": "5Bj6YQbYr0SF",
        "outputId": "4126c719-cac5-4982-d94f-3a84dae97e53"
      },
      "outputs": [
        {
          "name": "stdout",
          "output_type": "stream",
          "text": [
            "0.46891\n"
          ]
        }
      ],
      "source": [
        "i, e = sp.integrate.quad(lambda x: np.cosh(3*x)**2, 0, 1/3)\n",
        "print(round(i, 5))"
      ]
    },
    {
      "cell_type": "markdown",
      "metadata": {
        "id": "l3_J6IsWvw3o"
      },
      "source": [
        "7. Вычислить интеграл двумя способами: используя библиотеку SciPy и библиотеку SymPy $ \\int _0 ^ 1 dx \\int _0 ^ {1-x} dy \\int _0 ^ {1-x-y} (x+y+z) dz$."
      ]
    },
    {
      "cell_type": "code",
      "execution_count": 14,
      "metadata": {
        "colab": {
          "base_uri": "https://localhost:8080/",
          "height": 51
        },
        "id": "dz-JC793wcaf",
        "outputId": "cc919adf-fad9-4ab0-f3cd-69e33cf24d42"
      },
      "outputs": [
        {
          "data": {
            "text/latex": [
              "$\\displaystyle \\frac{1}{8}$"
            ],
            "text/plain": [
              "1/8"
            ]
          },
          "execution_count": 14,
          "metadata": {},
          "output_type": "execute_result"
        }
      ],
      "source": [
        "x, y, z = sm.symbols('x y z')\n",
        "f = x + y + z\n",
        "sm.integrate(f, (z, 0, 1-x-y), (y, 0, 1-x), (x, 0, 1))"
      ]
    },
    {
      "cell_type": "code",
      "execution_count": 15,
      "metadata": {
        "colab": {
          "base_uri": "https://localhost:8080/"
        },
        "id": "p4dcK3WcwzRL",
        "outputId": "54ed97a8-f55a-4210-96c1-291e27905e74"
      },
      "outputs": [
        {
          "name": "stdout",
          "output_type": "stream",
          "text": [
            "0.125\n"
          ]
        }
      ],
      "source": [
        "i, e = sp.integrate.tplquad(lambda z, y, x: x+y+z, 0, 1, lambda x: 0, lambda x: 1-x, lambda x, y: 0, lambda x, y: 1-x-y)\n",
        "print(round(i, 5))"
      ]
    },
    {
      "cell_type": "markdown",
      "metadata": {
        "id": "ShQMwQtexYfQ"
      },
      "source": [
        "8. Построить в одной системе координат графики функций:\n",
        "\\begin{cases}\n",
        "    y = 2cos(x-{\\frac \\pi 4}) \\\\\n",
        "    y = x+3\n",
        "  \\end{cases}\n",
        "Оси координат должны быть подписаны, графики должны быть разного цвета, должна быть выведена легенда.\n",
        "Точку пересечения (если она есть) выделить на графике оранжевым цветом.\n"
      ]
    },
    {
      "cell_type": "code",
      "execution_count": 16,
      "metadata": {
        "colab": {
          "base_uri": "https://localhost:8080/",
          "height": 341
        },
        "id": "uSYPBh2I0A26",
        "outputId": "62aac433-028a-4de9-e261-59dd4f2afeaf"
      },
      "outputs": [
        {
          "data": {
            "image/png": "[encoded data removed]",
            "text/plain": [
              "<Figure size 640x400 with 1 Axes>"
            ]
          },
          "metadata": {},
          "output_type": "display_data"
        }
      ],
      "source": [
        "#про стрелки можно прочитать здесь:\n",
        "#https://translated.turbopages.org/proxy_u/en-ru.ru.f4e3ce52-64cbf906-6a936b2a-74722d776562/https/stackoverflow.com/questions/33737736/matplotlib-axis-arrow-tip\n",
        "\n",
        "# Создание объектов артборда и холста\n",
        "plt.figure(figsize=(8, 5), dpi=80)\n",
        "ax = plt.subplot(111)\n",
        "\n",
        "# Мы решили удалить правую и верхнюю прямоугольные границы\n",
        "ax.spines['right'].set_color('none')\n",
        "ax.spines['top'].set_color('none')\n",
        "\n",
        "\n",
        "# Установить направление данных на координатной оси\n",
        " # 0 согласуется с нашей общей декартовой системой координат, 1 - противоположность\n",
        "ax.xaxis.set_ticks_position('bottom')\n",
        "ax.spines['bottom'].set_position(('data', 0))\n",
        "ax.yaxis.set_ticks_position('left')\n",
        "ax.spines['left'].set_position(('data', 0))\n",
        "\n",
        "\n",
        "# Подготовить данные, использовать распаковку последовательности\n",
        "\n",
        "X = np.linspace(-2*np.pi, 2*np.pi, 256, endpoint=True)\n",
        "C, L = np.cos(X-np.pi/4)*2, X+3\n",
        "\n",
        "plt.plot(X, C, color=\"blue\", linewidth=2.5, linestyle=\"-\", label=r'$y = 2cos(x-\\pi/4)$')\n",
        "plt.plot(X, L, color=\"red\", linewidth=2.5, linestyle=\"-\", label=r'$y=x+3$')\n",
        "\n",
        "plt.xlim(X.min() * 1.1, X.max() * 1.1)\n",
        "\n",
        "# Изменить метку на оси координат\n",
        "plt.xticks([-2*np.pi, -3*np.pi / 2, -np.pi, -np.pi / 2, 0, np.pi / 2, np.pi, 3*np.pi / 2, 2*np.pi ],\n",
        "           [r'$-2\\pi$', r'$-3\\pi/2$', r'$-\\pi$', r'$-\\pi/2$', r'$0$', r'$+\\pi/2$', r'$+\\pi$', r'$+3 \\pi/2$', r'$+ 2\\pi$' ])\n",
        "\n",
        "plt.ylim(C.min() * 1.1, C.max() * 1.1)\n",
        "plt.yticks([-2, -1, +1, +2],\n",
        "           [r'$-2$', r'$-1$', r'$+1$', r'$+2$'])\n",
        "\n",
        "# Ищем точку пересечения на графике\n",
        "x_intersect = sp.optimize.fsolve(lambda x: np.cos(x-np.pi/4)*2 - (x+3), -3)\n",
        "y_intersect = x_intersect + 3\n",
        "\n",
        "# Отображаем точку пересечения на графике\n",
        "ax.scatter(x_intersect, y_intersect, c='orange', s=50, zorder=2, label='Точка пересечения')\n",
        "# ax.scatter(x=-3.64, y=-0.62, c='orange', s=50, zorder=2, label='Точка пересечения')\n",
        "\n",
        "plt.legend(loc='upper right', frameon=False)\n",
        "plt.grid()\n",
        "plt.show()"
      ]
    }
  ],
  "metadata": {
    "colab": {
      "provenance": []
    },
    "kernelspec": {
      "display_name": "Python 3",
      "name": "python3"
    },
    "language_info": {
      "codemirror_mode": {
        "name": "ipython",
        "version": 3
      },
      "file_extension": ".py",
      "mimetype": "text/x-python",
      "name": "python",
      "nbconvert_exporter": "python",
      "pygments_lexer": "ipython3",
      "version": "3.10.4"
    }
  },
  "nbformat": 4,
  "nbformat_minor": 0
}
