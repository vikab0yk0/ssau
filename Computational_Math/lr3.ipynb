{
 "cells": [
  {
   "cell_type": "markdown",
   "metadata": {},
   "source": [
    "# Бойко Виктория Владимировна\n",
    "Лабораторная работа № 3. «Решние линейных и нелинейных систем разными методами»\n",
    "\n",
    "№ 3"
   ]
  },
  {
   "cell_type": "code",
   "execution_count": 217,
   "metadata": {},
   "outputs": [],
   "source": [
    "import math\n",
    "import numpy as np\n",
    "import matplotlib.pyplot as plt\n",
    "import scipy as sp\n",
    "import pandas as pd\n",
    "from sympy import *"
   ]
  },
  {
   "cell_type": "markdown",
   "metadata": {},
   "source": [
    "1. Создать матрицу $3\\times3$ из случайных целых чисел из отрезка [-8, 10]. Найти матрицу Гивенса которая зануляет элемент $a_{31}$. Найти QR разложение матрицы методом Гивенса. Проверить методом np.linalg"
   ]
  },
  {
   "cell_type": "code",
   "execution_count": 218,
   "metadata": {},
   "outputs": [
    {
     "name": "stdout",
     "output_type": "stream",
     "text": [
      "Исходная матрица:\n",
      " [[ 1 -5 -8]\n",
      " [-6  3  9]\n",
      " [ 5  3 10]]\n"
     ]
    }
   ],
   "source": [
    "A1 = np.random.randint(-8, 11, size=(3,3))\n",
    "print(\"Исходная матрица:\\n\", A1)"
   ]
  },
  {
   "cell_type": "code",
   "execution_count": 219,
   "metadata": {},
   "outputs": [
    {
     "name": "stdout",
     "output_type": "stream",
     "text": [
      "\n",
      "Матрица Гивенса G:\n",
      " [[ 0.2   0.    0.98]\n",
      " [ 0.    1.    0.  ]\n",
      " [-0.98  0.    0.2 ]]\n",
      "\n",
      "Матрица после умножения на G (G @ A):\n",
      " [[ 5.1   1.96  8.24]\n",
      " [-6.    3.    9.  ]\n",
      " [ 0.    5.49  9.81]]\n"
     ]
    }
   ],
   "source": [
    "a11, a31  = A1[0, 0], A1[2, 0]\n",
    "\n",
    "norm = np.sqrt(a11**2 + a31**2)\n",
    "c, s = a11 / norm, a31 / norm\n",
    "\n",
    "G1 = np.eye(3)\n",
    "G1[[0, 0, 2, 2], [0, 2, 0, 2]] = [c, s, -s, c]\n",
    "\n",
    "print(\"\\nМатрица Гивенса G:\\n\", G1.round(2))\n",
    "\n",
    "A1_new = G1 @ A1\n",
    "print(\"\\nМатрица после умножения на G (G @ A):\\n\", A1_new.round(2))"
   ]
  },
  {
   "cell_type": "code",
   "execution_count": 220,
   "metadata": {},
   "outputs": [],
   "source": [
    "def givens_rotation(a, b):\n",
    "    r = np.sqrt(a**2 + b**2)\n",
    "    return a / r, b / r\n",
    "\n",
    "def qr_givens(A):\n",
    "    m, n = A.shape\n",
    "    Q = np.eye(m)\n",
    "    R = A.copy()\n",
    "\n",
    "    for j in range(n):\n",
    "        for i in range(j+1, m):\n",
    "            if R[i,j] != 0:\n",
    "                c, s = givens_rotation(R[j,j], R[i,j])\n",
    "                G = np.eye(m)\n",
    "                G[[j,i], [j,i]] = c\n",
    "                G[j,i] = s\n",
    "                G[i,j] = -s\n",
    "\n",
    "                R = G @ R\n",
    "                Q = Q @ G.T\n",
    "\n",
    "    return Q, R"
   ]
  },
  {
   "cell_type": "code",
   "execution_count": 221,
   "metadata": {},
   "outputs": [
    {
     "name": "stdout",
     "output_type": "stream",
     "text": [
      "Q:\n",
      " [[ 0.13 -0.75 -0.65]\n",
      " [-0.76  0.34 -0.55]\n",
      " [ 0.64  0.56 -0.53]]\n",
      "R:\n",
      " [[ 7.87 -1.02 -1.52]\n",
      " [ 0.    6.48 14.73]\n",
      " [-0.   -0.   -5.06]]\n",
      "\n",
      "Q (numpy):\n",
      " [[-0.13 -0.75  0.65]\n",
      " [ 0.76  0.34  0.55]\n",
      " [-0.64  0.56  0.53]]\n",
      "R (numpy):\n",
      " [[-7.87  1.02  1.52]\n",
      " [ 0.    6.48 14.73]\n",
      " [ 0.    0.    5.06]]\n"
     ]
    }
   ],
   "source": [
    "Q1, R1 = qr_givens(A1)\n",
    "print(\"Q:\\n\", Q1.round(2))\n",
    "print(\"R:\\n\", R1.round(2))\n",
    "\n",
    "Q1_np, R1_np = np.linalg.qr(A1)\n",
    "print(\"\\nQ (numpy):\\n\", Q1_np.round(2))\n",
    "print(\"R (numpy):\\n\", R1_np.round(2))"
   ]
  },
  {
   "cell_type": "markdown",
   "metadata": {},
   "source": [
    "2. Решить систему с помощью QR разложения матрицы А. QR разложение найти методом Гивенса Проверить полученное решение непосредственной подстановкой в исходную систему, а также методом np.solve.\n",
    "\\begin{cases}\n",
    "    5.7x_1 - 7.8x_2 - 5.6x_3 - 8.3x_4 = 2.7 \\\\\n",
    "    6.6x_1 + 13.1x_2 - 6.3x_3 + 4.3x_4 = -5.5 \\\\    \n",
    "    14.7x_1 - 2.8x_2 + 5.6x_3 - 12.1x_4 = 8.6 \\\\\n",
    "    8.5x_1 + 12.7x_2 - 23.7x_3 + 5.7x_4 = 14.7\n",
    "  \\end{cases}"
   ]
  },
  {
   "cell_type": "code",
   "execution_count": 222,
   "metadata": {},
   "outputs": [],
   "source": [
    "def backward_substitution(A, B):\n",
    "    n = len(B)\n",
    "    X = np.zeros(n)\n",
    "    for i in range(n-1, -1, -1):\n",
    "        X[i] = (B[i] - np.dot(A[i, i+1:], X[i+1:])) / A[i, i]\n",
    "    return X\n",
    "\n",
    "\n",
    "A2 = np.array([\n",
    "    [5.7, -7.8, -5.6, -8.3],\n",
    "    [6.6, 13.1, -6.3, 4.3],\n",
    "    [14.7, -2.8, 5.6, -12.1],\n",
    "    [8.5, 12.7, -23.7, 5.7]\n",
    "])\n",
    "b2 = np.array([2.7, -5.5, 8.6, 14.7])"
   ]
  },
  {
   "cell_type": "code",
   "execution_count": 223,
   "metadata": {},
   "outputs": [
    {
     "name": "stdout",
     "output_type": "stream",
     "text": [
      "Q:\n",
      " [[ 0.3  -0.49 -0.57 -0.58]\n",
      " [ 0.35  0.58  0.34 -0.65]\n",
      " [ 0.77 -0.37  0.42  0.3 ]\n",
      " [ 0.45  0.53 -0.61  0.38]]\n",
      "R:\n",
      " [[ 19.09   5.7  -10.09  -7.77]\n",
      " [  0.    19.21 -15.51  14.14]\n",
      " [  0.     0.    17.93  -2.37]\n",
      " [  0.     0.    -0.     0.59]]\n",
      "\n",
      "Решение X:\n",
      " [ 11.95 -11.23   1.79  17.23]\n",
      "\n",
      "Решение numpy:\n",
      " [ 11.95 -11.23   1.79  17.23]\n"
     ]
    }
   ],
   "source": [
    "Q2, R2 = qr_givens(A2.round(2))\n",
    "print(\"Q:\\n\", Q2.round(2))\n",
    "print(\"R:\\n\", R2.round(2))\n",
    "\n",
    "QTb2 = Q2.T @ b2\n",
    "X2 = backward_substitution(R2, QTb2)\n",
    "print(\"\\nРешение X:\\n\", X2.round(2))\n",
    "\n",
    "x2_np = np.linalg.solve(A2, b2)\n",
    "print(\"\\nРешение numpy:\\n\", x2_np.round(2))"
   ]
  },
  {
   "cell_type": "markdown",
   "metadata": {},
   "source": [
    "3. Решить систему методом Зейделя с точностью до $10^{-3}$. Проверить выполнение достаточного условия сходимости. Если условие не выполняется, в программе выполнить эквивалентные преобразования системы, после этого привести к удобному для итераций виду. Оформить итерации в виде таблицы (можно пользоваться модулями PrettyTable или Pandas). Проверить полученное решение.\n",
    "\\begin{cases}\n",
    "    1.21x_1 - 0.18x_2 + 1.75x_3 = 0.11 \\\\\n",
    "    0.13x_1 + 1.75x_2 - 0.11x_3 = 2 \\\\    \n",
    "    3.01x_1 - 0.33x_2 + 1.11x_3= 0.13\n",
    "  \\end{cases}"
   ]
  },
  {
   "cell_type": "code",
   "execution_count": 224,
   "metadata": {},
   "outputs": [],
   "source": [
    "def seidel(A, b, tol=1e-3, max_iter=10000):\n",
    "    n = len(b)\n",
    "    x = np.zeros(n)\n",
    "    iterations = []\n",
    "    errors = []\n",
    "    \n",
    "    for k in range(max_iter):\n",
    "        x_new = np.zeros(n)\n",
    "        for i in range(n):\n",
    "            s1 = np.dot(A[i, :i], x_new[:i])\n",
    "            s2 = np.dot(A[i, i+1:], x[i+1:])\n",
    "            x_new[i] = (b[i] - s1 - s2) / A[i, i]\n",
    "        \n",
    "        error = np.linalg.norm(x_new - x)\n",
    "        iterations.append(np.append(x_new.round(4), error.round(5)))\n",
    "        if error < tol:\n",
    "            break\n",
    "        x = x_new.copy()\n",
    "    \n",
    "    columns = [f'x_{i+1}' for i in range(n)] + ['Error']\n",
    "    return pd.DataFrame(iterations, columns=columns)\n",
    "\n",
    "\n",
    "A3 = np.array([\n",
    "    [3.01, -0.33, 1.11],\n",
    "    [0.13, 1.75, -0.11],\n",
    "    [1.21, -0.18, 1.75],\n",
    "])\n",
    "b3 = np.array([0.13, 2, 0.11])"
   ]
  },
  {
   "cell_type": "code",
   "execution_count": 225,
   "metadata": {},
   "outputs": [
    {
     "name": "stdout",
     "output_type": "stream",
     "text": [
      "Проверка диагонального преобладания:\n",
      "Строка 1: 3.01 > 1.44 -> True\n",
      "Строка 2: 1.75 > 0.24 -> True\n",
      "Строка 3: 1.75 > 1.39 -> True\n"
     ]
    }
   ],
   "source": [
    "print(\"Проверка диагонального преобладания:\")\n",
    "for i in range(3):\n",
    "    diag = abs(A3[i,i])\n",
    "    sum_rest = sum(abs(A3[i,j]) for j in range(3) if j != i)\n",
    "    print(f'Строка {i+1}: {diag} > {sum_rest.round(2)} -> {diag > sum_rest}')"
   ]
  },
  {
   "cell_type": "code",
   "execution_count": 226,
   "metadata": {},
   "outputs": [
    {
     "name": "stdout",
     "output_type": "stream",
     "text": [
      "Итерации:\n"
     ]
    },
    {
     "data": {
      "text/html": [
       "<div>\n",
       "<style scoped>\n",
       "    .dataframe tbody tr th:only-of-type {\n",
       "        vertical-align: middle;\n",
       "    }\n",
       "\n",
       "    .dataframe tbody tr th {\n",
       "        vertical-align: top;\n",
       "    }\n",
       "\n",
       "    .dataframe thead th {\n",
       "        text-align: right;\n",
       "    }\n",
       "</style>\n",
       "<table border=\"1\" class=\"dataframe\">\n",
       "  <thead>\n",
       "    <tr style=\"text-align: right;\">\n",
       "      <th></th>\n",
       "      <th>x_1</th>\n",
       "      <th>x_2</th>\n",
       "      <th>x_3</th>\n",
       "      <th>Error</th>\n",
       "    </tr>\n",
       "  </thead>\n",
       "  <tbody>\n",
       "    <tr>\n",
       "      <th>0</th>\n",
       "      <td>0.0432</td>\n",
       "      <td>1.1396</td>\n",
       "      <td>0.1502</td>\n",
       "      <td>1.15032</td>\n",
       "    </tr>\n",
       "    <tr>\n",
       "      <th>1</th>\n",
       "      <td>0.1127</td>\n",
       "      <td>1.1439</td>\n",
       "      <td>0.1026</td>\n",
       "      <td>0.08441</td>\n",
       "    </tr>\n",
       "    <tr>\n",
       "      <th>2</th>\n",
       "      <td>0.1308</td>\n",
       "      <td>1.1396</td>\n",
       "      <td>0.0896</td>\n",
       "      <td>0.02261</td>\n",
       "    </tr>\n",
       "    <tr>\n",
       "      <th>3</th>\n",
       "      <td>0.1351</td>\n",
       "      <td>1.1385</td>\n",
       "      <td>0.0866</td>\n",
       "      <td>0.00540</td>\n",
       "    </tr>\n",
       "    <tr>\n",
       "      <th>4</th>\n",
       "      <td>0.1361</td>\n",
       "      <td>1.1382</td>\n",
       "      <td>0.0858</td>\n",
       "      <td>0.00128</td>\n",
       "    </tr>\n",
       "    <tr>\n",
       "      <th>5</th>\n",
       "      <td>0.1363</td>\n",
       "      <td>1.1381</td>\n",
       "      <td>0.0857</td>\n",
       "      <td>0.00030</td>\n",
       "    </tr>\n",
       "  </tbody>\n",
       "</table>\n",
       "</div>"
      ],
      "text/plain": [
       "      x_1     x_2     x_3    Error\n",
       "0  0.0432  1.1396  0.1502  1.15032\n",
       "1  0.1127  1.1439  0.1026  0.08441\n",
       "2  0.1308  1.1396  0.0896  0.02261\n",
       "3  0.1351  1.1385  0.0866  0.00540\n",
       "4  0.1361  1.1382  0.0858  0.00128\n",
       "5  0.1363  1.1381  0.0857  0.00030"
      ]
     },
     "execution_count": 226,
     "metadata": {},
     "output_type": "execute_result"
    }
   ],
   "source": [
    "df3 = seidel(A3, b3, tol=1e-3)\n",
    "print(\"Итерации:\")\n",
    "df3"
   ]
  },
  {
   "cell_type": "code",
   "execution_count": 227,
   "metadata": {},
   "outputs": [
    {
     "ename": "ValueError",
     "evalue": "matmul: Input operand 1 has a mismatch in its core dimension 0, with gufunc signature (n?,k),(k,m?)->(n?,m?) (size 4 is different from 3)",
     "output_type": "error",
     "traceback": [
      "\u001b[0;31m---------------------------------------------------------------------------\u001b[0m",
      "\u001b[0;31mValueError\u001b[0m                                Traceback (most recent call last)",
      "Cell \u001b[0;32mIn[227], line 2\u001b[0m\n\u001b[1;32m      1\u001b[0m x3 \u001b[38;5;241m=\u001b[39m df3\u001b[38;5;241m.\u001b[39miloc[\u001b[38;5;241m-\u001b[39m\u001b[38;5;241m1\u001b[39m]\u001b[38;5;241m.\u001b[39mvalues\n\u001b[0;32m----> 2\u001b[0m \u001b[38;5;28mprint\u001b[39m(\u001b[38;5;124m\"\u001b[39m\u001b[38;5;130;01m\\n\u001b[39;00m\u001b[38;5;124mПроверка A3 @ x3 = b3: \u001b[39m\u001b[38;5;124m\"\u001b[39m, np\u001b[38;5;241m.\u001b[39mallclose(\u001b[43mA3\u001b[49m\u001b[43m \u001b[49m\u001b[38;5;241;43m@\u001b[39;49m\u001b[43m \u001b[49m\u001b[43mx3\u001b[49m, b3, atol\u001b[38;5;241m=\u001b[39m\u001b[38;5;241m1e-3\u001b[39m))\n\u001b[1;32m      4\u001b[0m A_a \u001b[38;5;241m=\u001b[39m np\u001b[38;5;241m.\u001b[39marray([\n\u001b[1;32m      5\u001b[0m     [\u001b[38;5;241m1.21\u001b[39m, \u001b[38;5;241m-\u001b[39m\u001b[38;5;241m0.18\u001b[39m, \u001b[38;5;241m1.75\u001b[39m],\n\u001b[1;32m      6\u001b[0m     [\u001b[38;5;241m0.13\u001b[39m, \u001b[38;5;241m1.75\u001b[39m, \u001b[38;5;241m-\u001b[39m\u001b[38;5;241m0.11\u001b[39m],\n\u001b[1;32m      7\u001b[0m     [\u001b[38;5;241m3.01\u001b[39m, \u001b[38;5;241m-\u001b[39m\u001b[38;5;241m0.33\u001b[39m, \u001b[38;5;241m1.11\u001b[39m],\n\u001b[1;32m      8\u001b[0m \n\u001b[1;32m      9\u001b[0m ])\n\u001b[1;32m     10\u001b[0m \u001b[38;5;28mprint\u001b[39m(x3)\n",
      "\u001b[0;31mValueError\u001b[0m: matmul: Input operand 1 has a mismatch in its core dimension 0, with gufunc signature (n?,k),(k,m?)->(n?,m?) (size 4 is different from 3)"
     ]
    }
   ],
   "source": [
    "x3 = df3.iloc[-1].values\n",
    "print(\"\\nПроверка A3 @ x3 = b3: \", np.allclose(A3 @ x3, b3, atol=1e-3))\n",
    "\n",
    "A_a = np.array([\n",
    "    [1.21, -0.18, 1.75],\n",
    "    [0.13, 1.75, -0.11],\n",
    "    [3.01, -0.33, 1.11],\n",
    "\n",
    "])\n",
    "print(x3)\n",
    "print(np.linalg.solve(A3, b3))"
   ]
  },
  {
   "cell_type": "markdown",
   "metadata": {},
   "source": [
    "4. Решить нелинейное уравнение методом хорд с точностью $10^{-4}$ и методом Ньютона (касательных) с точностью $10^{-5}$. До решения отделить корни графическим методом, проверить выполнение условий метода.\n",
    "\n",
    "\\begin{array}{cccc}\n",
    "\\hline\n",
    "№Варианта & Функция & a & b \\\\\n",
    "\\hline\n",
    "3 & x^3 + 2.84x^2 - 5.606x - 14.766 & -4 & 3 \\\\\n",
    "\\hline\n",
    "\\end{array}"
   ]
  },
  {
   "cell_type": "markdown",
   "metadata": {},
   "source": [
    "Метод хорд (закреплена точка $(b)$):\n",
    "$$\n",
    "x_n = x_{n-1} - \\frac{f(x_{n-1}) \\cdot (x_{n-1} - b)}{f(x_{n-1}) - f(b)}\n",
    "$$\n",
    "\n",
    "\n",
    " Метод Ньютона:\n",
    "$$\n",
    "x_n = x_{n-1} - \\frac{f(x_{n-1})}{f'(x_{n-1})}\n",
    "$$\n",
    "\n",
    "\n",
    "Условие остановки:\n",
    "$$\n",
    "|x_n - x_{n-1}| < \\varepsilon\n",
    "$$"
   ]
  },
  {
   "cell_type": "code",
   "execution_count": null,
   "metadata": {},
   "outputs": [],
   "source": [
    "def f(x):\n",
    "    return x**3 + 2.84*x**2 - 5.606*x - 14.766\n",
    "\n",
    "def df(x):\n",
    "    return 3*x**2 + 2*2.84*x - 5.606\n",
    "\n",
    "def ddf(x):\n",
    "    return 6*x + 2*2.84\n",
    "\n",
    "\n",
    "\n",
    "def chord_method(a, b, epsilon):\n",
    "    x_prev = a\n",
    "    iteration = 0\n",
    "    results = []\n",
    "\n",
    "    while True:\n",
    "        x_next = x_prev - (f(x_prev) * (x_prev - b)) / (f(x_prev) - f(b))\n",
    "        iteration += 1\n",
    "        results.append([iteration, x_next, abs(x_next - x_prev)])\n",
    "        if abs(x_next - x_prev) < epsilon:\n",
    "            break\n",
    "        x_prev = x_next\n",
    "\n",
    "    df_chord = pd.DataFrame(results, columns=['Iteration', 'Root', 'Error'])\n",
    "    print(\"Метод хорд (закреплена точка b):\")\n",
    "    print(df_chord)\n",
    "    return x_next\n",
    "\n",
    "\n",
    "def newton_method(x0, epsilon):\n",
    "    x_curr = x0\n",
    "    iteration = 0\n",
    "    results = []\n",
    "\n",
    "    while True:\n",
    "        x_next = x_curr - f(x_curr) / df(x_curr)\n",
    "        iteration += 1\n",
    "        results.append([iteration, x_next, abs(x_next - x_curr)])\n",
    "        if abs(x_next - x_curr) < epsilon:\n",
    "            break\n",
    "        x_curr = x_next\n",
    "\n",
    "    df_newton = pd.DataFrame(results, columns=['Iteration', 'Root', 'Error'])\n",
    "    print(\"\\nМетод Ньютона:\")\n",
    "    print(df_newton)\n",
    "    return x_next"
   ]
  },
  {
   "cell_type": "code",
   "execution_count": null,
   "metadata": {},
   "outputs": [
    {
     "data": {
      "image/png": "[encoded data removed]",
      "text/plain": [
       "<Figure size 1000x600 with 1 Axes>"
      ]
     },
     "metadata": {},
     "output_type": "display_data"
    },
    {
     "name": "stdout",
     "output_type": "stream",
     "text": [
      "Метод хорд (закреплена точка b):\n",
      "   Iteration      Root     Error\n",
      "0          1  2.239835  0.239835\n",
      "1          2  2.301068  0.061233\n",
      "2          3  2.315564  0.014497\n",
      "3          4  2.318933  0.003369\n",
      "4          5  2.319712  0.000779\n",
      "5          6  2.319893  0.000180\n",
      "6          7  2.319934  0.000042\n",
      "\n",
      "Метод Ньютона:\n",
      "   Iteration      Root         Error\n",
      "0          1  2.454233  5.457668e-01\n",
      "1          2  2.326823  1.274102e-01\n",
      "2          3  2.319966  6.856912e-03\n",
      "3          4  2.319947  1.945385e-05\n",
      "4          5  2.319947  1.563718e-10\n",
      "\n",
      "Приближенный корень, найденный методом хорд: 2.319934199782605\n",
      "Приближенный корень, найденный методом Ньютона: 2.3199467077663094\n"
     ]
    }
   ],
   "source": [
    "X = np.linspace(-4, 3, 400)\n",
    "Y = f(X)\n",
    "\n",
    "plt.figure(figsize=(10, 6))\n",
    "plt.plot(X, Y, color=\"red\", linewidth=1.5, linestyle=\"-\", label=r\"$f(x) = x^3 + 2.84x^2 - 5.606x - 14.766$\")\n",
    "plt.plot(X, np.zeros(len(X)), color=\"black\", linewidth=0.8)\n",
    "\n",
    "\n",
    "plt.xlim(X.min(), X.max())\n",
    "plt.xticks([-4,-3,-2,-1,0,+1,+2,+3], [r'$-4$',r'$-3$',r'$-2$', r'$-1$',r'$0$', r'$+1$', r'$+2$', r'$+3$'])\n",
    "\n",
    "\n",
    "plt.ylim(-25, 25)\n",
    "plt.yticks(np.arange(-15, 26, 5), [r'$-15$',r'$-10$', r'$-5$', r'$0$', r'$+5$', r'$+10$', r'$+15$', r'$+20$', r'$+25$'])\n",
    "\n",
    "plt.legend(loc='best', frameon=False, fontsize=11)\n",
    "plt.grid(True)\n",
    "plt.title(\"График функции для отделения корней\")\n",
    "plt.xlabel(\"x\")\n",
    "plt.ylabel(\"f(x)\")\n",
    "plt.show()\n",
    "\n",
    "# Применение методов\n",
    "a = -4\n",
    "b = 3\n",
    "epsilon_chord = 1e-4\n",
    "epsilon_newton = 1e-5\n",
    "\n",
    "\n",
    "root_chord = chord_method(2, 3, epsilon_chord)\n",
    "root_newton = newton_method(3, epsilon_newton)\n",
    "\n",
    "print(f\"\\nПриближенный корень, найденный методом хорд: {root_chord}\")\n",
    "print(f\"Приближенный корень, найденный методом Ньютона: {root_newton}\")"
   ]
  },
  {
   "cell_type": "markdown",
   "metadata": {},
   "source": [
    "5. Решить систему нелинейных уравнений методом Ньютона с точностью $10^{-4}$\n",
    "\\begin{cases}\n",
    "    \\sin(x+0.5)-y=1\\\\\n",
    "    x+\\cos(y-2)=0\n",
    "  \\end{cases}"
   ]
  },
  {
   "cell_type": "code",
   "execution_count": null,
   "metadata": {},
   "outputs": [],
   "source": [
    "def f1(x, y):\n",
    "    return np.sin(x + 0.5) - y - 1\n",
    "\n",
    "def f2(x, y):\n",
    "    return x + np.cos(y - 2)\n",
    "\n",
    "\n",
    "def jacobian(x_val, y_val):\n",
    "    return np.array([\n",
    "        [df1_dx(x_val, y_val), df1_dy(x_val, y_val)],\n",
    "        [df2_dx(x_val, y_val), df2_dy(x_val, y_val)]\n",
    "    ])\n",
    "\n",
    "\n",
    "def F_vector(x_val, y_val):\n",
    "    return np.array([f1(x_val, y_val), f2(x_val, y_val)])\n",
    "\n",
    "\n",
    "def cramer(A, b):\n",
    "    det_A = np.linalg.det(A)\n",
    "    if det_A == 0:\n",
    "        raise ValueError(\"Матрица A вырожденная, метод Крамера не применим.\")\n",
    "    \n",
    "    n = len(b)\n",
    "    x = np.zeros(n)\n",
    "    \n",
    "    for i in range(n):\n",
    "        A_i = A.copy()\n",
    "        A_i[:, i] = b\n",
    "        x[i] = np.linalg.det(A_i) / det_A\n",
    "        \n",
    "    return x\n",
    "\n",
    "\n",
    "def newton_iteration(x0, y0, epsilon, max_iterations=100):\n",
    "    x_curr = x0\n",
    "    y_curr = y0\n",
    "    iteration = 0\n",
    "    results = []\n",
    "\n",
    "    while True:\n",
    "        iteration += 1\n",
    "        J = jacobian(x_curr, y_curr)\n",
    "        F = F_vector(x_curr, y_curr)\n",
    "        delta = cramer(J, -F)  #здесь используем метод Крамера\n",
    "\n",
    "        x_next = x_curr + delta[0]\n",
    "        y_next = y_curr + delta[1]\n",
    "        \n",
    "        results.append([iteration, x_next, y_next, delta[0], delta[1]])\n",
    "        \n",
    "        if max(abs(delta)) < epsilon:\n",
    "            break\n",
    "        \n",
    "        x_curr = x_next\n",
    "        y_curr = y_next\n",
    "        \n",
    "        if iteration > max_iterations:\n",
    "            print(\"Достигнуто максимальное количество итераций.\")\n",
    "            break\n",
    "\n",
    "    df = pd.DataFrame(results, columns=['Iteration', 'x', 'y', 'Delta x', 'Delta y'])\n",
    "    print(\"\\nИтерационная система (метод Ньютона):\")\n",
    "    print(df)\n",
    "    return x_next, y_next, iteration"
   ]
  },
  {
   "cell_type": "code",
   "execution_count": null,
   "metadata": {},
   "outputs": [
    {
     "data": {
      "image/png": "[encoded data removed]",
      "text/plain": [
       "<Figure size 1200x1040 with 1 Axes>"
      ]
     },
     "metadata": {},
     "output_type": "display_data"
    }
   ],
   "source": [
    "x, y = symbols('x y')\n",
    "\n",
    "# a. Построение графиков функций\n",
    "x_range = np.linspace(-5, 5)\n",
    "y_range = np.linspace(-5, 5)\n",
    "X, Y = np.meshgrid(x_range, y_range)\n",
    "\n",
    "plt.figure(figsize=(15, 13), dpi=80)\n",
    "ax = plt.subplot(111)\n",
    "\n",
    "ax.spines['right'].set_color('none')\n",
    "ax.spines['top'].set_color('none')\n",
    "\n",
    "ax.xaxis.set_ticks_position('bottom')\n",
    "ax.spines['bottom'].set_position(('data', 0))\n",
    "ax.yaxis.set_ticks_position('left')\n",
    "ax.spines['left'].set_position(('data', 0))\n",
    "\n",
    "Z1 = f1(X, Y)\n",
    "Z2 = f2(X, Y)\n",
    "\n",
    "contour1 = ax.contour(X, Y, Z1, [0], colors='blue', linewidths=2.5, linestyles='-')\n",
    "contour2 = ax.contour(X, Y, Z2, [0], colors='red', linewidths=2.5, linestyles='-')\n",
    "\n",
    "contour1.collections[0].set_label(r'$\\sin(x+0.5) - y = 1$')\n",
    "contour2.collections[0].set_label(r'$x + \\cos(y-2) = 0$')\n",
    "\n",
    "ax.plot(x_range, np.zeros(len(x_range)), color='black', linewidth=0.5)\n",
    "ax.plot(np.zeros(len(y_range)), y_range, color='black', linewidth=0.5)\n",
    "\n",
    "ax.set_title('Графическое представление системы уравнений')\n",
    "ax.grid(True)\n",
    "\n",
    "ax.set_xlim(-5, 5)\n",
    "ax.set_ylim(-5, 5)\n",
    "\n",
    "ax.set_xticks(np.arange(-5, 6, 1))\n",
    "ax.set_yticks(np.arange(-5, 6, 1))\n",
    "\n",
    "ax.legend(loc='upper right', frameon=False)\n",
    "plt.show()"
   ]
  },
  {
   "cell_type": "code",
   "execution_count": null,
   "metadata": {},
   "outputs": [
    {
     "name": "stdout",
     "output_type": "stream",
     "text": [
      "Начальное приближение: x = 0.0, y = -1.0\n",
      "\n",
      "Матрица Якоби:\n",
      "[[ 0.87758256 -1.        ]\n",
      " [ 1.          0.14112001]]\n",
      "\n",
      "Вектор F:\n",
      "[ 0.47942554 -0.9899925 ]\n",
      "\n",
      "Решение линейной системы (приращения dx, dy) методом Крамера:\n",
      "[0.82069716 1.19965506]\n",
      "\n",
      "Итерационная система (метод Ньютона):\n",
      "   Iteration         x         y       Delta x       Delta y\n",
      "0          1  0.820697  0.199655  8.206972e-01  1.199655e+00\n",
      "1          2  0.523805 -0.104593 -2.968919e-01 -3.042479e-01\n",
      "2          3  0.538011 -0.138518  1.420562e-02 -3.392511e-02\n",
      "3          4  0.537853 -0.138685 -1.578864e-04 -1.666209e-04\n",
      "4          5  0.537853 -0.138685  1.110547e-09 -1.017192e-08\n",
      "\n",
      "Решение системы уравнений методом Ньютона: x = 0.5378529959431572, y = -0.13868461654748762\n",
      "Количество итераций: 5\n",
      "\n",
      "Решение системы уравнений с использованием fsolve:\n",
      "x = 0.5378529959432937, y = -0.1386846165474925\n"
     ]
    }
   ],
   "source": [
    "# b. Определение начального приближения\n",
    "initial_guess = np.array([0.0, -1.0])\n",
    "print(f\"Начальное приближение: x = {initial_guess[0]}, y = {initial_guess[1]}\")\n",
    "\n",
    "# c. Вычисление производных и матрицы Якоби\n",
    "f1_sym = sin(x + 0.5) - y - 1\n",
    "f2_sym = x + cos(y - 2)\n",
    "\n",
    "df1_dx_sym = f1_sym.diff(x)\n",
    "df1_dy_sym = f1_sym.diff(y)\n",
    "df2_dx_sym = f2_sym.diff(x)\n",
    "df2_dy_sym = f2_sym.diff(y)\n",
    "\n",
    "df1_dx = lambdify((x, y), df1_dx_sym)\n",
    "df1_dy = lambdify((x, y), df1_dy_sym)\n",
    "df2_dx = lambdify((x, y), df2_dx_sym)\n",
    "df2_dy = lambdify((x, y), df2_dy_sym)\n",
    "\n",
    "J = jacobian(initial_guess[0], initial_guess[1])\n",
    "print(\"\\nМатрица Якоби:\")\n",
    "print(J)\n",
    "\n",
    "# d. Составление системы линейных уравнений относительно приращений x и y\n",
    "F = F_vector(initial_guess[0], initial_guess[1])\n",
    "\n",
    "print(\"\\nВектор F:\")\n",
    "print(F)\n",
    "\n",
    "# e. Решение линейной системы методом Крамера\n",
    "delta = cramer(J, -F)\n",
    "\n",
    "print(\"\\nРешение линейной системы (приращения dx, dy) методом Крамера:\")\n",
    "print(delta)\n",
    "\n",
    "# g, h. Стоп по условию и вывод количества итераций\n",
    "epsilon = 1e-4\n",
    "x_solution, y_solution, iterations = newton_iteration(initial_guess[0], initial_guess[1], epsilon)\n",
    "\n",
    "print(f\"\\nРешение системы уравнений методом Ньютона: x = {x_solution}, y = {y_solution}\")\n",
    "print(f\"Количество итераций: {iterations}\")\n",
    "\n",
    "# i. Проверка полученных решений подстановкой и сравнение с решениями функцией Питон\n",
    "x_scipy, y_scipy = sp.optimize.fsolve(lambda z: [np.sin(z[0] + 0.5) - z[1] - 1, z[0] + np.cos(z[1] - 2)], initial_guess)\n",
    "\n",
    "print(\"\\nРешение системы уравнений с использованием fsolve:\")\n",
    "print(f\"x = {x_scipy}, y = {y_scipy}\")"
   ]
  }
 ],
 "metadata": {
  "kernelspec": {
   "display_name": "Python 3",
   "language": "python",
   "name": "python3"
  },
  "language_info": {
   "codemirror_mode": {
    "name": "ipython",
    "version": 3
   },
   "file_extension": ".py",
   "mimetype": "text/x-python",
   "name": "python",
   "nbconvert_exporter": "python",
   "pygments_lexer": "ipython3",
   "version": "3.12.3"
  }
 },
 "nbformat": 4,
 "nbformat_minor": 2
}
