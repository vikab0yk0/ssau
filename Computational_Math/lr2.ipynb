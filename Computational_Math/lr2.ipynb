{
 "cells": [
  {
   "cell_type": "markdown",
   "metadata": {},
   "source": [
    "# Бойко Виктория Владимировна\n",
    "\n",
    "Лабораторная работа №2. Нормы векторов и матриц, решение переопределенной системы линейных уравнений, решение системы линейных уравнений с помощью LU разложения. \n",
    "\n",
    "№ 3"
   ]
  },
  {
   "cell_type": "code",
   "execution_count": 88,
   "metadata": {},
   "outputs": [],
   "source": [
    "import numpy as np\n",
    "from matplotlib import pyplot as plt"
   ]
  },
  {
   "cell_type": "markdown",
   "metadata": {},
   "source": [
    "1. Создать квадратную матрицу из случайных целых чисел из $[-5,2]$ размера $11$. Найти и \n",
    "вычислить минор 5 порядка, расположенный на пересечении $1,2,3,6,7$ строк и $7,8,9, 10,11$ \n",
    "столбцов. Использовать срезы матрицы"
   ]
  },
  {
   "cell_type": "code",
   "execution_count": 89,
   "metadata": {},
   "outputs": [
    {
     "name": "stdout",
     "output_type": "stream",
     "text": [
      "matrix:\n",
      "[[-3 -1 -3 -3 -5 -4  2 -3  1  0 -5]\n",
      " [ 1 -1 -5 -1 -3 -3 -2 -1  0  2  2]\n",
      " [-5 -4 -4 -3 -4 -4 -5 -4  0  2 -1]\n",
      " [ 1  2 -1  2 -4 -2 -2 -3  1 -1  2]\n",
      " [ 1  2  2  0 -2 -2  0 -2 -4  2  0]\n",
      " [ 0 -5 -5  2 -3 -1 -3  1 -1 -5  1]\n",
      " [-4 -5  0 -1 -1 -1 -4 -2 -2 -1 -2]\n",
      " [-3  0  2 -4  1  2 -5  0  0  0 -1]\n",
      " [-1  0 -5  2 -3 -3  1 -2  0 -3  2]\n",
      " [-3 -2 -3 -4  2  2  2 -4 -5  0 -2]\n",
      " [-4 -2 -2  1 -2 -2  2  2  0 -5  1]]\n",
      "\n",
      "minor:\n",
      "[[ 2 -3  1  0 -5]\n",
      " [-2 -1  0  2  2]\n",
      " [-5 -4  0  2 -1]\n",
      " [-3  1 -1 -5  1]\n",
      " [-4 -2 -2 -1 -2]]\n",
      "\n",
      "determinant:\n",
      "-224.9999999999998\n"
     ]
    }
   ],
   "source": [
    "matrix1 = np.random.randint(-5, 3, size=(11, 11))\n",
    "print(\"matrix:\")\n",
    "print(matrix1)\n",
    "\n",
    "index = list(range(11))\n",
    "minor1 = matrix1[index[:3]+index[5:7]][:,index[6:]]\n",
    "print(\"\\nminor:\")\n",
    "print(minor1)\n",
    "\n",
    "determinant = np.linalg.det(minor1)\n",
    "\n",
    "print(\"\\ndeterminant:\")\n",
    "print(determinant)\n"
   ]
  },
  {
   "cell_type": "markdown",
   "metadata": {},
   "source": [
    "2. Создать вектор-строку $1\\times8$ из случайных целых чисел. Вычислить норму $\\| x \\|_\\infty$ самостоятельно написанной функцией и проверить результат с помощью linalg.norm() в Python.\n"
   ]
  },
  {
   "cell_type": "code",
   "execution_count": 90,
   "metadata": {},
   "outputs": [
    {
     "name": "stdout",
     "output_type": "stream",
     "text": [
      "[ 77   6 -81  85  70 -56  81  -1]\n",
      "norm: 85\n",
      "correct: True\n"
     ]
    }
   ],
   "source": [
    "def my_norm(v):\n",
    "    return max(abs(i) for i in v)\n",
    "\n",
    "vector = np.random.randint(-100, 100, size=(8))\n",
    "\n",
    "norm2 = my_norm(vector)\n",
    "norm_numpy2 = np.linalg.norm(vector, ord=np.inf)\n",
    "\n",
    "print(vector)\n",
    "print(\"norm:\", norm2)\n",
    "print(\"correct:\", norm2==norm_numpy2)\n"
   ]
  },
  {
   "cell_type": "markdown",
   "metadata": {},
   "source": [
    "3. Создать матрицу из случайных целых чисел. Найти фробениусову норму матрицы с помощью самостоятельно написанного алгоритма, проверить результат с помощью linalg.norm() в Python. "
   ]
  },
  {
   "cell_type": "code",
   "execution_count": 91,
   "metadata": {},
   "outputs": [
    {
     "name": "stdout",
     "output_type": "stream",
     "text": [
      "matrix:\n",
      "[[ 7 -1 -8  5]\n",
      " [ 2 -8  7  6]\n",
      " [ 0  9 -3  3]]\n",
      "Frobenius norm: 19.77371993328519\n",
      "correct: True\n"
     ]
    }
   ],
   "source": [
    "def my_frobenius_norm(matrix):\n",
    "    return np.sqrt(np.sum(matrix**2))\n",
    "\n",
    "\n",
    "matrix3 = np.random.randint(-10, 10, size=(3, 4))  # Пример: матрица 3x4\n",
    "\n",
    "print(\"matrix:\")\n",
    "print(matrix3)\n",
    "\n",
    "norm3 = my_frobenius_norm(matrix3)\n",
    "norm3_numpy = np.linalg.norm(matrix3, 'fro')\n",
    "\n",
    "print(\"Frobenius norm:\", norm3)\n",
    "print(\"correct:\", norm3==norm3_numpy)"
   ]
  },
  {
   "cell_type": "markdown",
   "metadata": {},
   "source": [
    "4. Найти псевдорешение системы\n",
    "\\begin{cases}\n",
    "    5.7x_1 - 7.7x_2 - 5.6x_3 = 2.7 \\\\\n",
    "    6.6x_1 + 13.1x_2 - 6.3x_3 = -5.5 \\\\    \n",
    "    14.7x_1 - 2.8x_2 + 5.6x_3 = 8.6 \\\\\n",
    "    8.5x_1 + 12.7x_2 - 23.7x_3 = 14.7\n",
    "  \\end{cases}"
   ]
  },
  {
   "cell_type": "code",
   "execution_count": 92,
   "metadata": {},
   "outputs": [
    {
     "name": "stdout",
     "output_type": "stream",
     "text": [
      "answer: [ 0.49097011 -0.40036963 -0.49493758]\n",
      "correct: True\n"
     ]
    }
   ],
   "source": [
    "# X = (A_t * A)^(-1) * A_t * B\n",
    "def my_pinv(matrix):\n",
    "    A_T = matrix.T\n",
    "    A_T_A = np.dot(A_T, matrix)\n",
    "    A_T_A_inv = np.linalg.inv(A_T_A)\n",
    "    return np.dot(A_T_A_inv, A_T)\n",
    "\n",
    "\n",
    "A4 = np.array([\n",
    "    [5.7, -7.7, -5.6],\n",
    "    [6.6, 13.1, -6.3],\n",
    "    [14.7, -2.8, 5.6],\n",
    "    [8.5, 12.7, -23.7]\n",
    "])\n",
    "\n",
    "B4 = np.array([2.7, -5.5, 8.6, 14.7])\n",
    "\n",
    "A_pinv = my_pinv(A4)\n",
    "answer4 = np.dot(A_pinv, B4)\n",
    "\n",
    "A_pinv_numpy = np.linalg.pinv(A4)\n",
    "answer4_numpy = np.dot(A_pinv_numpy, B4)\n",
    "\n",
    "print(\"answer:\", answer4)\n",
    "print(\"correct:\", np.allclose(answer4, answer4_numpy))"
   ]
  },
  {
   "cell_type": "markdown",
   "metadata": {},
   "source": [
    "5. Даны пять точек $(30; 17), (40; 22), (50; 40), (60, 37), (70, 29)$. Найти уравнение наиболее выгодной траектории. Построить график."
   ]
  },
  {
   "cell_type": "code",
   "execution_count": 98,
   "metadata": {},
   "outputs": [
    {
     "name": "stderr",
     "output_type": "stream",
     "text": [
      "C:\\Users\\Вика\\AppData\\Local\\Temp\\ipykernel_5708\\4141303411.py:13: MatplotlibDeprecationWarning: Passing the marker parameter of scatter() positionally is deprecated since Matplotlib 3.9; the parameter will become keyword-only in 3.11.\n",
      "  plt.scatter(x, y, 40, 'g', 'o', alpha=0.8, label='Точки')\n"
     ]
    },
    {
     "data": {
      "image/png": "[encoded data removed]",
      "text/plain": [
       "<Figure size 640x480 with 1 Axes>"
      ]
     },
     "metadata": {},
     "output_type": "display_data"
    }
   ],
   "source": [
    "x = [30, 40, 50, 60, 70]\n",
    "y = [17, 22, 40, 37, 29]\n",
    "\n",
    "x_min = min(x)-10\n",
    "x_max = max(x)+10\n",
    "y_max = max(y)+10\n",
    "\n",
    "A = np.array([[i, 1] for i in x])\n",
    "k, b = np.dot(my_pinv(A), y)\n",
    "\n",
    "plt.xlim(x_min,x_max)\n",
    "plt.ylim(0, y_max)\n",
    "plt.scatter(x, y, 40, 'g', 'o', alpha=0.8, label='Точки')\n",
    "x_line = np.array([x_min, x_max])\n",
    "y_line = k*x_line + b\n",
    "plt.plot(x_line, y_line, 'r', label=f'y = {k:.2f}x + {b:.2f}')\n",
    "\n",
    "plt.title('Оптимальная траектория полета', fontsize=14)\n",
    "plt.xlabel('X координата', fontsize=12)\n",
    "plt.ylabel('Y координата', fontsize=12)\n",
    "plt.grid(alpha=0.5)\n",
    "plt.legend(loc='lower right', frameon=False)\n",
    "plt.show()\n",
    "\n"
   ]
  },
  {
   "cell_type": "markdown",
   "metadata": {},
   "source": [
    "6. Создать произвольную верхнюю унитреугольную матрицу $А$ 5 порядка, вектор $B$ произвольный. Решить систему $AX = B$. "
   ]
  },
  {
   "cell_type": "code",
   "execution_count": null,
   "metadata": {},
   "outputs": [
    {
     "name": "stdout",
     "output_type": "stream",
     "text": [
      "matrix A: \n",
      "[[1.         0.11053367 0.24984008 0.95854869 0.36624127]\n",
      " [0.         1.         0.34707107 0.47748613 0.70538287]\n",
      " [0.         0.         1.         0.56864272 0.62522514]\n",
      " [0.         0.         0.         1.         0.79149949]\n",
      " [0.         0.         0.         0.         1.        ]]\n",
      "\n",
      "vector B:\n",
      "[0.84111164 0.28291765 0.97627361 0.09801215 0.89439287]\n",
      "\n",
      "answer: [ 0.94289391 -0.32187792  0.76389153 -0.60989935  0.89439287]\n",
      "correct: True\n"
     ]
    }
   ],
   "source": [
    "# Алгоритм обратой подстановки (начинаем с последнего уравнения и движемся вверх, подставляя уже найденные значения)\n",
    "def backward_substitution(A, B):\n",
    "    n = len(B)\n",
    "    X = np.zeros(n)\n",
    "    for i in range(n-1, -1, -1):\n",
    "        X[i] = (B[i] - np.dot(A[i, i+1:], X[i+1:])) / A[i, i]\n",
    "    return X\n",
    "\n",
    "\n",
    "A6 = np.triu(np.random.rand(5, 5))\n",
    "np.fill_diagonal(A6, 1)\n",
    "B6 = np.random.rand(5)\n",
    "\n",
    "answer6 = backward_substitution(A6, B6)\n",
    "answer6_numpy= np.linalg.solve(A6, B6)\n",
    "\n",
    "print(\"matrix A: \")\n",
    "print(A6)\n",
    "print(\"\\nvector B:\")\n",
    "print(B6)\n",
    "print(\"\\nanswer:\", answer6)\n",
    "print(\"correct:\", np.allclose(answer6, answer6_numpy))"
   ]
  },
  {
   "cell_type": "markdown",
   "metadata": {},
   "source": [
    "7. Решить систему, используя $LU$ разложение матрицы. $LU$ разложение должно быть найдено самостоятельно написанной функцией, полученные матрицы выведены на экран.\n",
    "Придерживаться плана решения, приведенного в пособии! \n",
    "Решение системы должно быть проверено встроенной функцией Python.\n",
    "\\begin{cases}\n",
    "    5.7x_1 - 7.8x_2 - 5.6x_3 - 8.3x_4 = 2.7 \\\\\n",
    "    6.6x_1 + 13.1x_2 - 6.3x_3 + 4.3x_4 = -5.5 \\\\    \n",
    "    14.7x_1 - 2.8x_2 + 5.6x_3 - 12.1x_4 = 8.6 \\\\\n",
    "    8.5x_1 + 12.7x_2 - 23.7x_3 + 5.7x_4 = 14.7\n",
    "  \\end{cases}"
   ]
  },
  {
   "cell_type": "code",
   "execution_count": 95,
   "metadata": {},
   "outputs": [
    {
     "name": "stdout",
     "output_type": "stream",
     "text": [
      "Матрица L:\n",
      "[[ 1.          0.          0.          0.        ]\n",
      " [ 1.15789474  1.          0.          0.        ]\n",
      " [ 2.57894737  0.7824019   1.          0.        ]\n",
      " [ 1.49122807  1.09940547 -0.78156908  1.        ]]\n",
      "\n",
      "Матрица U:\n",
      "[[ 5.70000000e+00 -7.80000000e+00 -5.60000000e+00 -8.30000000e+00]\n",
      " [ 0.00000000e+00  2.21315789e+01  1.84210526e-01  1.39105263e+01]\n",
      " [ 1.77635684e-15  0.00000000e+00  1.98979786e+01 -1.57835910e+00]\n",
      " [ 0.00000000e+00  0.00000000e+00  1.77635684e-15  1.55028759e+00]]\n",
      "\n",
      "Проверка LU-разложения (A7 == L * U):\n",
      "True\n",
      "\n",
      "Вектор y (решение системы Ly = B7):\n",
      "[ 2.7        -8.62631579  8.38608799 26.71181007]\n",
      "\n",
      "Решение X (решение системы UX = y):\n",
      "[ 11.94661496 -11.23450224   1.78820056  17.23022887]\n",
      "\n",
      "Проверка решения (X == X_check):\n",
      "True\n"
     ]
    }
   ],
   "source": [
    "def lu_decomposition(A):\n",
    "    n = len(A)\n",
    "    L = np.eye(n)\n",
    "    U = A.copy()\n",
    "    for k in range(n-1):\n",
    "        for i in range(k+1, n):\n",
    "            L[i, k] = U[i, k] / U[k, k]\n",
    "            U[i, k:] -= L[i, k] * U[k, k:]\n",
    "    return L, U\n",
    "\n",
    "\n",
    "def forward_substitution(L, b):\n",
    "    n = len(b)\n",
    "    y = np.zeros(n)\n",
    "    for i in range(n):\n",
    "        y[i] = (b[i] - np.dot(L[i, :i], y[:i])) / L[i, i]\n",
    "    return y\n",
    "\n",
    "\n",
    "A7 = np.array([\n",
    "    [5.7, -7.8, -5.6, -8.3],\n",
    "    [6.6, 13.1, -6.3, 4.3],\n",
    "    [14.7, -2.8, 5.6, -12.1],\n",
    "    [8.5, 12.7, -23.7, 5.7]\n",
    "])\n",
    "B7 = np.array([2.7, -5.5, 8.6, 14.7])\n",
    "\n",
    "L, U = lu_decomposition(A7)\n",
    "\n",
    "print(\"Матрица L:\")\n",
    "print(L)\n",
    "print(\"\\nМатрица U:\")\n",
    "print(U)\n",
    "\n",
    "print(\"\\nПроверка LU-разложения (A7 == L * U):\")\n",
    "print(np.allclose(A7, np.dot(L, U)))\n",
    "\n",
    "y = forward_substitution(L, B7)\n",
    "print(\"\\nВектор y (решение системы Ly = B7):\")\n",
    "print(y)\n",
    "\n",
    "X = backward_substitution(U, y)\n",
    "print(\"\\nРешение X (решение системы UX = y):\")\n",
    "print(X)\n",
    "\n",
    "X_check = np.linalg.solve(A7, B7)\n",
    "print(\"\\nПроверка решения (X == X_check):\")\n",
    "print(np.allclose(X, X_check))"
   ]
  }
 ],
 "metadata": {
  "kernelspec": {
   "display_name": "Python 3",
   "language": "python",
   "name": "python3"
  },
  "language_info": {
   "codemirror_mode": {
    "name": "ipython",
    "version": 3
   },
   "file_extension": ".py",
   "mimetype": "text/x-python",
   "name": "python",
   "nbconvert_exporter": "python",
   "pygments_lexer": "ipython3",
   "version": "3.10.4"
  }
 },
 "nbformat": 4,
 "nbformat_minor": 2
}
